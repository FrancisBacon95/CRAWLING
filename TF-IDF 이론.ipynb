{
 "cells": [
  {
   "cell_type": "markdown",
   "metadata": {},
   "source": [
    "# TF-IDF"
   ]
  },
  {
   "attachments": {},
   "cell_type": "markdown",
   "metadata": {},
   "source": [
    "### - TF : Term Frequency\n",
    "\n",
    "(Term : 단어)\n",
    "\n",
    "### - IDF : Inverse Document Frequency\n",
    "\n",
    "## 1. Why TF-IDF?\n",
    "\n",
    "한 문서가 주어졌을 때, 문서는 단어로 구성되어져 있다.\n",
    "각 단어별로 이 문서의 연관성을 사용합니다.\n",
    "TF-IDF는 이것을 수치로 표현한 것.\n",
    "\n",
    "## 2. What TF-IDF?\n",
    "\n",
    "## 2-1) What TF?\n",
    "\n",
    "- 어떠한 문서가 주어졌을 때, 이 단어가 몇 번 출현했는가에 대한 값.\n",
    "\n",
    "- 가설 : 문서가 있을 때, 단어가 여러번 출현했다면, 여러번 출현한 만큼 이 단어는 문서와 연관성이 높을 것이다.\n",
    "\n",
    "ex) \n",
    "\n",
    "![image](https://user-images.githubusercontent.com/51112316/61789496-c9a20a00-ae4f-11e9-854b-bc23c8b71871.png)\n",
    "\n",
    "\n",
    "\n",
    "\n",
    "![image](https://user-images.githubusercontent.com/51112316/61789527-e4747e80-ae4f-11e9-9472-4e50436b161d.png)\n",
    "\n",
    "### -> 중요단어를 잘 분별함.\n",
    "\n",
    "\n",
    "![image](https://user-images.githubusercontent.com/51112316/61789561-fc4c0280-ae4f-11e9-85dc-b08bcd4dc9dc.png)\n",
    "\n",
    "### -> stopword(\"a\")를 중요단어로 분별함.\n",
    "\n",
    "### -> 중요단어를 잘 분별하지 못함.\n",
    "\n",
    "\n",
    "## 2-2) What IDF?\n",
    "\n",
    "- 어떤 단어들은 문서와 연관성이 없음에도 불구하고, 어느 문장에서나 출현한다. \n",
    "\n",
    "- 이러한 단어들에 대해서 패널티를 부여하기 위한 방법.\n",
    "\n",
    "- log( 총 문장의 개수 / 이 단어가 출현한 문장의 개수)\n",
    "\n",
    "- log( 총 문장의 개수 / 이 단어가 출현한 문장의 개수 + 1)로 간혹 smoothing을 사용하기도 함.\n",
    "\n",
    "![image](https://user-images.githubusercontent.com/51112316/61789451-b42ce000-ae4f-11e9-9000-800a62f1ed31.png)\n",
    "\n",
    "\n",
    "## TF- IDF\n",
    "![image](https://user-images.githubusercontent.com/51112316/61789404-96f81180-ae4f-11e9-8df7-b5f7904fe0da.png)"
   ]
  },
  {
   "cell_type": "code",
   "execution_count": null,
   "metadata": {},
   "outputs": [],
   "source": []
  },
  {
   "cell_type": "code",
   "execution_count": null,
   "metadata": {},
   "outputs": [],
   "source": []
  },
  {
   "cell_type": "code",
   "execution_count": null,
   "metadata": {},
   "outputs": [],
   "source": []
  },
  {
   "cell_type": "markdown",
   "metadata": {},
   "source": [
    "# 문서 유사도 구하기\n",
    "\n",
    "- Bag Of Word를 이용하여 cosine Similarity를 활용.\n",
    "\n",
    "- Bag of Word에 count 대신에 TF-IDF를 넣어 cosine Similarity를 활용."
   ]
  },
  {
   "cell_type": "markdown",
   "metadata": {},
   "source": [
    "![image](https://user-images.githubusercontent.com/51112316/61789840-ac217000-ae50-11e9-94fe-36fb31a5444a.png)\n",
    "![image](https://user-images.githubusercontent.com/51112316/61789863-b93e5f00-ae50-11e9-98cf-d0627eb14e05.png)\n",
    "![image](https://user-images.githubusercontent.com/51112316/61789889-c78c7b00-ae50-11e9-830a-5da52721aed9.png)\n",
    "![image](https://user-images.githubusercontent.com/51112316/61789917-de32d200-ae50-11e9-8d7a-a0ffc3af3292.png)\n",
    "![image](https://user-images.githubusercontent.com/51112316/61789997-12a68e00-ae51-11e9-9591-f330e6f0bc36.png)\n",
    "![image](https://user-images.githubusercontent.com/51112316/61790023-26ea8b00-ae51-11e9-918a-3a734f5ce495.png)"
   ]
  },
  {
   "cell_type": "markdown",
   "metadata": {},
   "source": [
    "# TF-IDF BOW(Bag of words)의 장점\n",
    "\n",
    "- 도큐먼트의 유사도를 구현하기가 쉽다.\n",
    "\n",
    "- 중요한 단어의 점수를 그대료 유지.\n",
    "\n",
    "- 중요하지 않은 단어, 자주 출현하지만 중요하지 않은 단어의 경우 패널티.\n",
    "\n",
    "\n",
    "# TF-IDF BOW(Bag of word)의 단점\n",
    "\n",
    "## - 오로지 단어만 본다. 그 속에 있는 유사도는 보지 않는다. \n",
    "\n",
    "## - 단어는 알되, 그 주제를 아는데는 한계가 있다.\n",
    "\n",
    "## - 동의어(유의어)에 약하다.\n",
    "\n",
    "### ex1)\n",
    "\n",
    "### U.S President speech in public\n",
    "  \n",
    "### Donald Trump presentation to people\n",
    "\n",
    "### 같은 단어가 하나도 존재하지 않지만 같은 문장이다.\n",
    "\n",
    "\n",
    "\n",
    "### ex2)\n",
    "### American restaurant menu\n",
    "### American restaurant menu hamburger pizza\n",
    "### hamburger pizza\n",
    "\n",
    "### 이러한 것들을 해결하지 못하는 단점이 존재.\n",
    "\n",
    "\n",
    "\n",
    "# TF-IDF BOW 단점 해결방안\n",
    "\n",
    "### - LSA (Latent Semantic Analysis)\n",
    "\n",
    "### Word Embeddings(Word2vec,Glove) : word2vec을 이용하면 단어의 유사도가 존재.\n",
    "\n",
    "### ConceptNet"
   ]
  },
  {
   "cell_type": "code",
   "execution_count": null,
   "metadata": {},
   "outputs": [],
   "source": []
  }
 ],
 "metadata": {
  "kernelspec": {
   "display_name": "Python 3",
   "language": "python",
   "name": "python3"
  },
  "language_info": {
   "codemirror_mode": {
    "name": "ipython",
    "version": 3
   },
   "file_extension": ".py",
   "mimetype": "text/x-python",
   "name": "python",
   "nbconvert_exporter": "python",
   "pygments_lexer": "ipython3",
   "version": "3.6.5"
  }
 },
 "nbformat": 4,
 "nbformat_minor": 2
}
