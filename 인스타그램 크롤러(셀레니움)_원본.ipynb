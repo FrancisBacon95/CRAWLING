{
 "cells": [
  {
   "cell_type": "markdown",
   "metadata": {},
   "source": [
    "# 인스타그램 크롤러\n",
    "\n",
    "### (셀레니움 사용)\n",
    "\n",
    "###       \n"
   ]
  },
  {
   "cell_type": "code",
   "execution_count": 1,
   "metadata": {},
   "outputs": [],
   "source": [
    "from selenium import webdriver\n",
    "from time import sleep\n",
    "from bs4 import BeautifulSoup\n",
    "import sys\n",
    "import os\n",
    "if not sys.modules.get('selenium'):\n",
    "    os.system('pip3 install selenium')\n",
    "if not sys.modules.get('pandas'):\n",
    "    os.system('pip3 install pandas')\n",
    "from selenium import webdriver\n",
    "from selenium.webdriver.chrome.options import Options\n",
    "from selenium.webdriver.support.ui import WebDriverWait\n",
    "# expected_conditions는 Selenium 2.26.0 이후 부터 사용 가능합니다.\n",
    "from selenium.webdriver.support import expected_conditions as EC\n",
    "from selenium.webdriver.common.by import By\n",
    "import time\n",
    "import pandas as pd\n",
    "from selenium.webdriver.common.keys import Keys"
   ]
  },
  {
   "cell_type": "markdown",
   "metadata": {},
   "source": [
    "- 드라이버 세팅"
   ]
  },
  {
   "cell_type": "code",
   "execution_count": 31,
   "metadata": {},
   "outputs": [],
   "source": [
    "driver=webdriver.Chrome(executable_path=\"chromedriver.exe\")\n",
    "# 'path' 설정해줄 때 \"../ \" 해주면 상위 폴더로 감."
   ]
  },
  {
   "cell_type": "markdown",
   "metadata": {},
   "source": [
    "## 1번 크롤러"
   ]
  },
  {
   "cell_type": "code",
   "execution_count": null,
   "metadata": {},
   "outputs": [],
   "source": [
    "keyword=\"고등어\"\n",
    "url=\"https://www.instagram.com/explore/tags/\"+keyword+\"/\"\n",
    "driver.get(url)  # 주소 입력하고 ENTER치는 효과\n",
    "sleep(5)\n",
    "\n",
    "data=pd.DataFrame([[0,0]],columns=['text','date'])\n",
    "index=0\n",
    "scroll=str((1+index)*200)\n",
    "for i in range(1,10) :\n",
    "    for j in range(1,4) :\n",
    "        scroll=str((1+index)*200)\n",
    "        driver.execute_script(\"window.scrollTo(0,\"+scroll+\");\") \n",
    "        driver.find_element_by_xpath('//*[@id=\"react-root\"]/section/main/article/div[2]/div/div['+str(i)+']/div['+str(j)+']/a/div[1]/div[2]').click()\n",
    "        sleep(1)\n",
    "        date = WebDriverWait(driver, 30).until(EC.presence_of_element_located((By.CSS_SELECTOR,'body > div._2dDPU.vCf6V > div.zZYga > div > article > div.eo2As > div.EtaWk > ul > div > li > div > div > div.C4VMK > div > div > time')))\n",
    "        text = WebDriverWait(driver, 30).until(EC.presence_of_element_located((By.CSS_SELECTOR,'body > div._2dDPU.vCf6V > div.zZYga > div > article > div.eo2As > div.EtaWk > ul > div > li > div > div > div.C4VMK > span')))\n",
    "        data.loc[index]=[date.text,text.text]\n",
    "        sleep(1)\n",
    "        driver.get(url)\n",
    "        sleep(3)\n",
    "        index+=1\n",
    "driver.close() "
   ]
  },
  {
   "cell_type": "code",
   "execution_count": 24,
   "metadata": {},
   "outputs": [
    {
     "data": {
      "text/html": [
       "<div>\n",
       "<style scoped>\n",
       "    .dataframe tbody tr th:only-of-type {\n",
       "        vertical-align: middle;\n",
       "    }\n",
       "\n",
       "    .dataframe tbody tr th {\n",
       "        vertical-align: top;\n",
       "    }\n",
       "\n",
       "    .dataframe thead th {\n",
       "        text-align: right;\n",
       "    }\n",
       "</style>\n",
       "<table border=\"1\" class=\"dataframe\">\n",
       "  <thead>\n",
       "    <tr style=\"text-align: right;\">\n",
       "      <th></th>\n",
       "      <th>text</th>\n",
       "      <th>date</th>\n",
       "    </tr>\n",
       "  </thead>\n",
       "  <tbody>\n",
       "    <tr>\n",
       "      <th>0</th>\n",
       "      <td>41분</td>\n",
       "      <td>낚낚~\\n진해놀러 뎅기기\\n\\n#진해 #고등어 #낚시 #잼남\\n#잔해낚시 #생활낚시...</td>\n",
       "    </tr>\n",
       "    <tr>\n",
       "      <th>1</th>\n",
       "      <td>54분</td>\n",
       "      <td>#알람\\n#끼아아</td>\n",
       "    </tr>\n",
       "    <tr>\n",
       "      <th>2</th>\n",
       "      <td>1시간</td>\n",
       "      <td>내 사랑 시메사바!\\n#시메사바 #고등어 #사시미 #회\\n#먹스타그램 #맛스타그램 ...</td>\n",
       "    </tr>\n",
       "    <tr>\n",
       "      <th>3</th>\n",
       "      <td>1시간</td>\n",
       "      <td>애들 전부다 ??? 이런 표정...ㅋㅋㅋ\\n#개냥이스타그램 #냥스타그램 #고양이 #...</td>\n",
       "    </tr>\n",
       "    <tr>\n",
       "      <th>4</th>\n",
       "      <td>1시간</td>\n",
       "      <td>고양이의 습격!\\n#꾹꾹 #고등어 #방해꾼 #커피생활 #강릉커피 #아디카페 #주문진...</td>\n",
       "    </tr>\n",
       "    <tr>\n",
       "      <th>5</th>\n",
       "      <td>1시간</td>\n",
       "      <td>충주점 야호 상품 행사 안내\\n7월 23일~25일까지 오후 7시부터 선착순\\n한정판...</td>\n",
       "    </tr>\n",
       "    <tr>\n",
       "      <th>6</th>\n",
       "      <td>1시간</td>\n",
       "      <td>나오지는 않으면서 에어콘 틀어놓은\\n찹찹한 안방에서 지손으로 문만 열고\\n닝겐도 얼...</td>\n",
       "    </tr>\n",
       "    <tr>\n",
       "      <th>7</th>\n",
       "      <td>2시간</td>\n",
       "      <td>.\\n.\\n#낭뜰에쉼팡\\n.\\n済州島着いてすぐご飯♡\\n#낭뜰정식 ナントゥル定食という...</td>\n",
       "    </tr>\n",
       "    <tr>\n",
       "      <th>8</th>\n",
       "      <td>2시간</td>\n",
       "      <td>장여사님과 아침일찍 짬낚시옴.\\nㅋㅋㅋ 좋네 날이\\n\\n#양양 #바다낚시 #낙산 #...</td>\n",
       "    </tr>\n",
       "    <tr>\n",
       "      <th>9</th>\n",
       "      <td>2시간</td>\n",
       "      <td>옴마...? 나 어디가나옹\\n.\\n.\\n.\\n.\\n.\\n.\\n.\\n#내사랑만월#순딩...</td>\n",
       "    </tr>\n",
       "    <tr>\n",
       "      <th>10</th>\n",
       "      <td>3시간</td>\n",
       "      <td>#Repost @skypang1970 with @get_repost\\n・・・\\n부산...</td>\n",
       "    </tr>\n",
       "    <tr>\n",
       "      <th>11</th>\n",
       "      <td>4시간</td>\n",
       "      <td>#모닝포도\\n엉덩이 꿈틀거리며 장난감 주시중~\\n.\\n.\\n.\\n#더워서거실취침\\n...</td>\n",
       "    </tr>\n",
       "    <tr>\n",
       "      <th>12</th>\n",
       "      <td>5시간</td>\n",
       "      <td>콩이랑 #읏디의고양이타이쿤 시청즁\\n가만히좀 둬줄래?\\n#고양이 #아깽이 #캣초딩 ...</td>\n",
       "    </tr>\n",
       "    <tr>\n",
       "      <th>13</th>\n",
       "      <td>5시간</td>\n",
       "      <td>.\\n언니발에 그렇게 귀엽게 쩰리 콕 하기야???!!\\n어느순간 늠름해진 다온이\\n...</td>\n",
       "    </tr>\n",
       "    <tr>\n",
       "      <th>14</th>\n",
       "      <td>5시간</td>\n",
       "      <td>거대한 동족을 알아보는 콩이\\n#고양이 #아깽이 #캣초딩 #야옹이 #냥이 #인스타그...</td>\n",
       "    </tr>\n",
       "    <tr>\n",
       "      <th>15</th>\n",
       "      <td>6시간</td>\n",
       "      <td>#후포리 백년손님 촬영지\\n#백년손님 촬영지 후포리 안에는\\n#울진군 남쪽 끝에 위...</td>\n",
       "    </tr>\n",
       "    <tr>\n",
       "      <th>16</th>\n",
       "      <td>6시간</td>\n",
       "      <td>#후포리 백년손님 촬영지\\n#백년손님 촬영지 후포리 안에는\\n#울진군 남쪽 끝에 위...</td>\n",
       "    </tr>\n",
       "    <tr>\n",
       "      <th>17</th>\n",
       "      <td>6시간</td>\n",
       "      <td>#후포리 백년손님 촬영지\\n#백년손님 촬영지 후포리 안에는\\n#울진군 남쪽 끝에 위...</td>\n",
       "    </tr>\n",
       "    <tr>\n",
       "      <th>18</th>\n",
       "      <td>7시간</td>\n",
       "      <td>혜미이모야 그만 내려주라..\\n눈풀린다아아아아🙃🙃</td>\n",
       "    </tr>\n",
       "    <tr>\n",
       "      <th>19</th>\n",
       "      <td>8시간</td>\n",
       "      <td>어느날 #점심밥상 #고등어조림\\n1. 소요 시간: 35분\\n밥 짓는 시간 포함, 다...</td>\n",
       "    </tr>\n",
       "    <tr>\n",
       "      <th>20</th>\n",
       "      <td>8시간</td>\n",
       "      <td>#출생 이래 24년 지난 후 #깨달음 #고등어 #초회 이렇게 #맛 있는거를 왜 이제...</td>\n",
       "    </tr>\n",
       "    <tr>\n",
       "      <th>21</th>\n",
       "      <td>8시간</td>\n",
       "      <td>#마숑이와함께하는일기 .\\n.\\n.\\n이불 속에서 아늑하다잉 그치♡\\n.\\n.\\n#...</td>\n",
       "    </tr>\n",
       "    <tr>\n",
       "      <th>22</th>\n",
       "      <td>9시간</td>\n",
       "      <td>소파는 비록 스크레쳐가 됐지만 괜찮아🤧\\n#완자_ #봉자_</td>\n",
       "    </tr>\n",
       "    <tr>\n",
       "      <th>23</th>\n",
       "      <td>9시간</td>\n",
       "      <td>쇼파 생기니까\\n다 뜯어놓고 실밥 마중나오고 난리속이다\\n무슨 방법이...ㅠㅠ .\\...</td>\n",
       "    </tr>\n",
       "    <tr>\n",
       "      <th>24</th>\n",
       "      <td>9시간</td>\n",
       "      <td>집사야.. 허벅지에 살이 많아서 푹신푹신 하구나.. 마약베개가 따로 없다 #퓨리 #...</td>\n",
       "    </tr>\n",
       "  </tbody>\n",
       "</table>\n",
       "</div>"
      ],
      "text/plain": [
       "   text                                               date\n",
       "0   41분  낚낚~\\n진해놀러 뎅기기\\n\\n#진해 #고등어 #낚시 #잼남\\n#잔해낚시 #생활낚시...\n",
       "1   54분                                          #알람\\n#끼아아\n",
       "2   1시간  내 사랑 시메사바!\\n#시메사바 #고등어 #사시미 #회\\n#먹스타그램 #맛스타그램 ...\n",
       "3   1시간  애들 전부다 ??? 이런 표정...ㅋㅋㅋ\\n#개냥이스타그램 #냥스타그램 #고양이 #...\n",
       "4   1시간  고양이의 습격!\\n#꾹꾹 #고등어 #방해꾼 #커피생활 #강릉커피 #아디카페 #주문진...\n",
       "5   1시간  충주점 야호 상품 행사 안내\\n7월 23일~25일까지 오후 7시부터 선착순\\n한정판...\n",
       "6   1시간  나오지는 않으면서 에어콘 틀어놓은\\n찹찹한 안방에서 지손으로 문만 열고\\n닝겐도 얼...\n",
       "7   2시간  .\\n.\\n#낭뜰에쉼팡\\n.\\n済州島着いてすぐご飯♡\\n#낭뜰정식 ナントゥル定食という...\n",
       "8   2시간  장여사님과 아침일찍 짬낚시옴.\\nㅋㅋㅋ 좋네 날이\\n\\n#양양 #바다낚시 #낙산 #...\n",
       "9   2시간  옴마...? 나 어디가나옹\\n.\\n.\\n.\\n.\\n.\\n.\\n.\\n#내사랑만월#순딩...\n",
       "10  3시간  #Repost @skypang1970 with @get_repost\\n・・・\\n부산...\n",
       "11  4시간  #모닝포도\\n엉덩이 꿈틀거리며 장난감 주시중~\\n.\\n.\\n.\\n#더워서거실취침\\n...\n",
       "12  5시간  콩이랑 #읏디의고양이타이쿤 시청즁\\n가만히좀 둬줄래?\\n#고양이 #아깽이 #캣초딩 ...\n",
       "13  5시간  .\\n언니발에 그렇게 귀엽게 쩰리 콕 하기야???!!\\n어느순간 늠름해진 다온이\\n...\n",
       "14  5시간  거대한 동족을 알아보는 콩이\\n#고양이 #아깽이 #캣초딩 #야옹이 #냥이 #인스타그...\n",
       "15  6시간  #후포리 백년손님 촬영지\\n#백년손님 촬영지 후포리 안에는\\n#울진군 남쪽 끝에 위...\n",
       "16  6시간  #후포리 백년손님 촬영지\\n#백년손님 촬영지 후포리 안에는\\n#울진군 남쪽 끝에 위...\n",
       "17  6시간  #후포리 백년손님 촬영지\\n#백년손님 촬영지 후포리 안에는\\n#울진군 남쪽 끝에 위...\n",
       "18  7시간                        혜미이모야 그만 내려주라..\\n눈풀린다아아아아🙃🙃\n",
       "19  8시간  어느날 #점심밥상 #고등어조림\\n1. 소요 시간: 35분\\n밥 짓는 시간 포함, 다...\n",
       "20  8시간  #출생 이래 24년 지난 후 #깨달음 #고등어 #초회 이렇게 #맛 있는거를 왜 이제...\n",
       "21  8시간  #마숑이와함께하는일기 .\\n.\\n.\\n이불 속에서 아늑하다잉 그치♡\\n.\\n.\\n#...\n",
       "22  9시간                   소파는 비록 스크레쳐가 됐지만 괜찮아🤧\\n#완자_ #봉자_\n",
       "23  9시간  쇼파 생기니까\\n다 뜯어놓고 실밥 마중나오고 난리속이다\\n무슨 방법이...ㅠㅠ .\\...\n",
       "24  9시간  집사야.. 허벅지에 살이 많아서 푹신푹신 하구나.. 마약베개가 따로 없다 #퓨리 #..."
      ]
     },
     "execution_count": 24,
     "metadata": {},
     "output_type": "execute_result"
    }
   ],
   "source": [
    "data"
   ]
  },
  {
   "cell_type": "markdown",
   "metadata": {},
   "source": [
    "## 2번 크롤러"
   ]
  },
  {
   "cell_type": "code",
   "execution_count": 32,
   "metadata": {},
   "outputs": [
    {
     "ename": "WebDriverException",
     "evalue": "Message: chrome not reachable\n  (Session info: chrome=75.0.3770.142)\n",
     "output_type": "error",
     "traceback": [
      "\u001b[1;31m---------------------------------------------------------------------------\u001b[0m",
      "\u001b[1;31mWebDriverException\u001b[0m                        Traceback (most recent call last)",
      "\u001b[1;32m<ipython-input-32-efb61a39b39d>\u001b[0m in \u001b[0;36m<module>\u001b[1;34m\u001b[0m\n\u001b[0;32m     10\u001b[0m     \u001b[1;32mfor\u001b[0m \u001b[0mj\u001b[0m \u001b[1;32min\u001b[0m \u001b[0mrange\u001b[0m\u001b[1;33m(\u001b[0m\u001b[1;36m1\u001b[0m\u001b[1;33m,\u001b[0m\u001b[1;36m4\u001b[0m\u001b[1;33m)\u001b[0m \u001b[1;33m:\u001b[0m\u001b[1;33m\u001b[0m\u001b[1;33m\u001b[0m\u001b[0m\n\u001b[0;32m     11\u001b[0m         \u001b[0mscroll\u001b[0m\u001b[1;33m=\u001b[0m\u001b[0mstr\u001b[0m\u001b[1;33m(\u001b[0m\u001b[1;33m(\u001b[0m\u001b[1;36m1\u001b[0m\u001b[1;33m+\u001b[0m\u001b[0mindex\u001b[0m\u001b[1;33m)\u001b[0m\u001b[1;33m*\u001b[0m\u001b[1;36m200\u001b[0m\u001b[1;33m)\u001b[0m\u001b[1;33m\u001b[0m\u001b[1;33m\u001b[0m\u001b[0m\n\u001b[1;32m---> 12\u001b[1;33m         \u001b[0mdriver\u001b[0m\u001b[1;33m.\u001b[0m\u001b[0mexecute_script\u001b[0m\u001b[1;33m(\u001b[0m\u001b[1;34m\"window.scrollTo(0,\"\u001b[0m\u001b[1;33m+\u001b[0m\u001b[0mscroll\u001b[0m\u001b[1;33m+\u001b[0m\u001b[1;34m\");\"\u001b[0m\u001b[1;33m)\u001b[0m\u001b[1;33m\u001b[0m\u001b[1;33m\u001b[0m\u001b[0m\n\u001b[0m\u001b[0;32m     13\u001b[0m         \u001b[0mWebDriverWait\u001b[0m\u001b[1;33m(\u001b[0m\u001b[0mdriver\u001b[0m\u001b[1;33m,\u001b[0m \u001b[1;36m30\u001b[0m\u001b[1;33m)\u001b[0m\u001b[1;33m.\u001b[0m\u001b[0muntil\u001b[0m\u001b[1;33m(\u001b[0m\u001b[0mEC\u001b[0m\u001b[1;33m.\u001b[0m\u001b[0mpresence_of_element_located\u001b[0m\u001b[1;33m(\u001b[0m\u001b[1;33m(\u001b[0m\u001b[0mBy\u001b[0m\u001b[1;33m.\u001b[0m\u001b[0mCSS_SELECTOR\u001b[0m\u001b[1;33m,\u001b[0m\u001b[1;34m'#react-root > section > main > article > div:nth-child(3) > div > div:nth-child('\u001b[0m\u001b[1;33m+\u001b[0m\u001b[0mstr\u001b[0m\u001b[1;33m(\u001b[0m\u001b[0mi\u001b[0m\u001b[1;33m)\u001b[0m\u001b[1;33m+\u001b[0m\u001b[1;34m') > div:nth-child('\u001b[0m\u001b[1;33m+\u001b[0m\u001b[0mstr\u001b[0m\u001b[1;33m(\u001b[0m\u001b[0mj\u001b[0m\u001b[1;33m)\u001b[0m\u001b[1;33m+\u001b[0m\u001b[1;34m') > a > div.eLAPa > div._9AhH0'\u001b[0m\u001b[1;33m)\u001b[0m\u001b[1;33m)\u001b[0m\u001b[1;33m)\u001b[0m\u001b[1;33m.\u001b[0m\u001b[0mclick\u001b[0m\u001b[1;33m(\u001b[0m\u001b[1;33m)\u001b[0m\u001b[1;33m\u001b[0m\u001b[1;33m\u001b[0m\u001b[0m\n\u001b[0;32m     14\u001b[0m         \u001b[0msleep\u001b[0m\u001b[1;33m(\u001b[0m\u001b[1;36m1\u001b[0m\u001b[1;33m)\u001b[0m\u001b[1;33m\u001b[0m\u001b[1;33m\u001b[0m\u001b[0m\n",
      "\u001b[1;32m~\\Anaconda3\\lib\\site-packages\\selenium\\webdriver\\remote\\webdriver.py\u001b[0m in \u001b[0;36mexecute_script\u001b[1;34m(self, script, *args)\u001b[0m\n\u001b[0;32m    634\u001b[0m         return self.execute(command, {\n\u001b[0;32m    635\u001b[0m             \u001b[1;34m'script'\u001b[0m\u001b[1;33m:\u001b[0m \u001b[0mscript\u001b[0m\u001b[1;33m,\u001b[0m\u001b[1;33m\u001b[0m\u001b[1;33m\u001b[0m\u001b[0m\n\u001b[1;32m--> 636\u001b[1;33m             'args': converted_args})['value']\n\u001b[0m\u001b[0;32m    637\u001b[0m \u001b[1;33m\u001b[0m\u001b[0m\n\u001b[0;32m    638\u001b[0m     \u001b[1;32mdef\u001b[0m \u001b[0mexecute_async_script\u001b[0m\u001b[1;33m(\u001b[0m\u001b[0mself\u001b[0m\u001b[1;33m,\u001b[0m \u001b[0mscript\u001b[0m\u001b[1;33m,\u001b[0m \u001b[1;33m*\u001b[0m\u001b[0margs\u001b[0m\u001b[1;33m)\u001b[0m\u001b[1;33m:\u001b[0m\u001b[1;33m\u001b[0m\u001b[1;33m\u001b[0m\u001b[0m\n",
      "\u001b[1;32m~\\Anaconda3\\lib\\site-packages\\selenium\\webdriver\\remote\\webdriver.py\u001b[0m in \u001b[0;36mexecute\u001b[1;34m(self, driver_command, params)\u001b[0m\n\u001b[0;32m    319\u001b[0m         \u001b[0mresponse\u001b[0m \u001b[1;33m=\u001b[0m \u001b[0mself\u001b[0m\u001b[1;33m.\u001b[0m\u001b[0mcommand_executor\u001b[0m\u001b[1;33m.\u001b[0m\u001b[0mexecute\u001b[0m\u001b[1;33m(\u001b[0m\u001b[0mdriver_command\u001b[0m\u001b[1;33m,\u001b[0m \u001b[0mparams\u001b[0m\u001b[1;33m)\u001b[0m\u001b[1;33m\u001b[0m\u001b[1;33m\u001b[0m\u001b[0m\n\u001b[0;32m    320\u001b[0m         \u001b[1;32mif\u001b[0m \u001b[0mresponse\u001b[0m\u001b[1;33m:\u001b[0m\u001b[1;33m\u001b[0m\u001b[1;33m\u001b[0m\u001b[0m\n\u001b[1;32m--> 321\u001b[1;33m             \u001b[0mself\u001b[0m\u001b[1;33m.\u001b[0m\u001b[0merror_handler\u001b[0m\u001b[1;33m.\u001b[0m\u001b[0mcheck_response\u001b[0m\u001b[1;33m(\u001b[0m\u001b[0mresponse\u001b[0m\u001b[1;33m)\u001b[0m\u001b[1;33m\u001b[0m\u001b[1;33m\u001b[0m\u001b[0m\n\u001b[0m\u001b[0;32m    322\u001b[0m             response['value'] = self._unwrap_value(\n\u001b[0;32m    323\u001b[0m                 response.get('value', None))\n",
      "\u001b[1;32m~\\Anaconda3\\lib\\site-packages\\selenium\\webdriver\\remote\\errorhandler.py\u001b[0m in \u001b[0;36mcheck_response\u001b[1;34m(self, response)\u001b[0m\n\u001b[0;32m    240\u001b[0m                 \u001b[0malert_text\u001b[0m \u001b[1;33m=\u001b[0m \u001b[0mvalue\u001b[0m\u001b[1;33m[\u001b[0m\u001b[1;34m'alert'\u001b[0m\u001b[1;33m]\u001b[0m\u001b[1;33m.\u001b[0m\u001b[0mget\u001b[0m\u001b[1;33m(\u001b[0m\u001b[1;34m'text'\u001b[0m\u001b[1;33m)\u001b[0m\u001b[1;33m\u001b[0m\u001b[1;33m\u001b[0m\u001b[0m\n\u001b[0;32m    241\u001b[0m             \u001b[1;32mraise\u001b[0m \u001b[0mexception_class\u001b[0m\u001b[1;33m(\u001b[0m\u001b[0mmessage\u001b[0m\u001b[1;33m,\u001b[0m \u001b[0mscreen\u001b[0m\u001b[1;33m,\u001b[0m \u001b[0mstacktrace\u001b[0m\u001b[1;33m,\u001b[0m \u001b[0malert_text\u001b[0m\u001b[1;33m)\u001b[0m\u001b[1;33m\u001b[0m\u001b[1;33m\u001b[0m\u001b[0m\n\u001b[1;32m--> 242\u001b[1;33m         \u001b[1;32mraise\u001b[0m \u001b[0mexception_class\u001b[0m\u001b[1;33m(\u001b[0m\u001b[0mmessage\u001b[0m\u001b[1;33m,\u001b[0m \u001b[0mscreen\u001b[0m\u001b[1;33m,\u001b[0m \u001b[0mstacktrace\u001b[0m\u001b[1;33m)\u001b[0m\u001b[1;33m\u001b[0m\u001b[1;33m\u001b[0m\u001b[0m\n\u001b[0m\u001b[0;32m    243\u001b[0m \u001b[1;33m\u001b[0m\u001b[0m\n\u001b[0;32m    244\u001b[0m     \u001b[1;32mdef\u001b[0m \u001b[0m_value_or_default\u001b[0m\u001b[1;33m(\u001b[0m\u001b[0mself\u001b[0m\u001b[1;33m,\u001b[0m \u001b[0mobj\u001b[0m\u001b[1;33m,\u001b[0m \u001b[0mkey\u001b[0m\u001b[1;33m,\u001b[0m \u001b[0mdefault\u001b[0m\u001b[1;33m)\u001b[0m\u001b[1;33m:\u001b[0m\u001b[1;33m\u001b[0m\u001b[1;33m\u001b[0m\u001b[0m\n",
      "\u001b[1;31mWebDriverException\u001b[0m: Message: chrome not reachable\n  (Session info: chrome=75.0.3770.142)\n"
     ]
    }
   ],
   "source": [
    "keyword=\"고등어\"\n",
    "url=\"https://www.instagram.com/explore/tags/\"+keyword+\"/\"\n",
    "driver.get(url)  # 주소 입력하고 ENTER치는 효과\n",
    "sleep(5)\n",
    "\n",
    "data=pd.DataFrame([[0,0]],columns=['text','date'])\n",
    "index=0\n",
    "scroll=str((1+index)*200)\n",
    "for i in range(1,10) :\n",
    "    for j in range(1,4) :\n",
    "        scroll=str((1+index)*200)\n",
    "        driver.execute_script(\"window.scrollTo(0,\"+scroll+\");\") \n",
    "        WebDriverWait(driver, 30).until(EC.presence_of_element_located((By.CSS_SELECTOR,'#react-root > section > main > article > div:nth-child(3) > div > div:nth-child('+str(i)+') > div:nth-child('+str(j)+') > a > div.eLAPa > div._9AhH0'))).click()\n",
    "        sleep(1)\n",
    "        date = WebDriverWait(driver, 30).until(EC.presence_of_element_located((By.CSS_SELECTOR,'body > div._2dDPU.vCf6V > div.zZYga > div > article > div.eo2As > div.EtaWk > ul > div > li > div > div > div.C4VMK > div > div > time')))\n",
    "        text = WebDriverWait(driver, 30).until(EC.presence_of_element_located((By.CSS_SELECTOR,'body > div._2dDPU.vCf6V > div.zZYga > div > article > div.eo2As > div.EtaWk > ul > div > li > div > div > div.C4VMK > span')))\n",
    "        data.loc[index]=[date.text,text.text]\n",
    "        sleep(1)\n",
    "        driver.get(url)\n",
    "        sleep(3)\n",
    "        index+=1\n",
    "driver.close() "
   ]
  },
  {
   "cell_type": "code",
   "execution_count": 15,
   "metadata": {},
   "outputs": [
    {
     "data": {
      "text/plain": [
       "'200'"
      ]
     },
     "execution_count": 15,
     "metadata": {},
     "output_type": "execute_result"
    }
   ],
   "source": [
    "data"
   ]
  },
  {
   "cell_type": "code",
   "execution_count": null,
   "metadata": {},
   "outputs": [],
   "source": []
  }
 ],
 "metadata": {
  "kernelspec": {
   "display_name": "Python 3",
   "language": "python",
   "name": "python3"
  },
  "language_info": {
   "codemirror_mode": {
    "name": "ipython",
    "version": 3
   },
   "file_extension": ".py",
   "mimetype": "text/x-python",
   "name": "python",
   "nbconvert_exporter": "python",
   "pygments_lexer": "ipython3",
   "version": "3.7.3"
  }
 },
 "nbformat": 4,
 "nbformat_minor": 2
}
